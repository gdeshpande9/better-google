{
 "cells": [
  {
   "cell_type": "code",
   "execution_count": 14,
   "metadata": {},
   "outputs": [],
   "source": [
    "import random\n",
    "\n",
    "with open(\"../T1_T2_sublist\", \"r\") as f:\n",
    "    data = f.read().split('\\n')\n",
    "\n",
    "random.shuffle(data)\n",
    "\n",
    "train_data = data[:462]\n",
    "test_data = data[462:]"
   ]
  },
  {
   "cell_type": "code",
   "execution_count": 37,
   "metadata": {},
   "outputs": [],
   "source": [
    "string1 = 'T2_'\n",
    "string2 = '.nii.gz'\n",
    "\n",
    "test_T1_files = [s + string2 for s in test_data]\n",
    "test_T2_files = [string2 + s + string2 for s in test_data]"
   ]
  },
  {
   "cell_type": "code",
   "execution_count": 38,
   "metadata": {},
   "outputs": [],
   "source": [
    "import shutil\n",
    "import os\n",
    "\n",
    "source = '../trainImages/'\n",
    "dest = '../testImages/'\n",
    "\n",
    "\n",
    "files = test_T1_files\n",
    "\n",
    "for f in files:\n",
    "        shutil.move(source+f, dest)"
   ]
  }
 ],
 "metadata": {
  "kernelspec": {
   "display_name": "Python 3",
   "language": "python",
   "name": "python3"
  },
  "language_info": {
   "codemirror_mode": {
    "name": "ipython",
    "version": 3
   },
   "file_extension": ".py",
   "mimetype": "text/x-python",
   "name": "python",
   "nbconvert_exporter": "python",
   "pygments_lexer": "ipython3",
   "version": "3.6.4"
  }
 },
 "nbformat": 4,
 "nbformat_minor": 2
}
