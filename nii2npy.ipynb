{
 "cells": [
  {
   "cell_type": "code",
   "execution_count": null,
   "metadata": {},
   "outputs": [],
   "source": [
    "import os\n",
    "\n",
    "#I USED THIS FILE TO CONVERT NIFTI IMAGES INTO NUMPY ARRAYS\n",
    "from medpy.io import load, save\n",
    "import numpy as np\n",
    "\n",
    "def writeFiles(imageFiles, labelFiles, inputImageDir, inputLabelDir, outputImageDir, outputLabelDir, train=False):\n",
    "    for i in range(len(imageFiles)):\n",
    "        imageFile = imageFiles[i]\n",
    "        print('Reading File {}'.format(imageFile), end='\\r')\n",
    "        labelFile = labelFiles[i]\n",
    "        image, _ = load(inputImageDir + imageFile)\n",
    "        label, _ = load(inputLabelDir + labelFile)\n",
    "        if train:\n",
    "            for i in range(image.shape[2]):\n",
    "                imageSlice = image[:, :, i]\n",
    "                labelSlice = label[:, :, i]\n",
    "                np.save(outputImageDir + imageFile + 'slice_{}'.format(i), imageSlice)\n",
    "                np.save(outputLabelDir + labelFile + 'slice_{}'.format(i), labelSlice)\n",
    "        else:\n",
    "            np.save(outputImageDir + imageFile, image)\n",
    "            np.save(outputLabelDir + labelFile, label)\n",
    "def main():\n",
    "    trainImagesDir = '../pretrainImages'\n",
    "    trainLabelsDir = '../pretrainImages'\n",
    "\n",
    "    testImagesDir = '../pretestImages'\n",
    "    testLabelsDir = '../pretestImages'\n",
    "\n",
    "    trainImageFiles = [file for file in os.listdir(trainImagesDir) if file.endswith('.nii')]\n",
    "    trainLabelFiles = ['T2_' + file for file in trainImageFiles]\n",
    "\n",
    "    testImageFiles = [file for file in os.listdir(testImagesDir) if file.endswith('.npy')]\n",
    "    testLabelFiles = ['T2_' + file for file in testImageFiles]\n",
    "\n",
    "    valdImageFiles = trainImageFiles[:100]\n",
    "    valdLabelFiles = trainLabelFiles[:100]\n",
    "    trainImageFiles = trainImageFiles[100:]\n",
    "    trainLabelFiles = trainLabelFiles[100:]\n",
    "\n",
    "    writeFilesNumpy(testImageFiles, testLabelFiles, testImagesDir, testLabelsDir, 'testSliceImages/', 'testSliceMasks/', train=True)\n",
    "    writeFiles(trainImageFiles, trainLabelFiles, trainImagesDir, trainLabelsDir, 'trainImages/', 'trainMasks/', train=True)\n",
    "    writeFiles(valdImageFiles, valdLabelFiles, trainImagesDir, trainLabelsDir, 'valdImages/', 'valdMasks/')\n",
    "    writeFiles(testImageFiles, testLabelFiles, testImagesDir, testLabelsDir, 'testImages/', 'testMasks/')\n",
    "\n",
    "main()"
   ]
  }
 ],
 "metadata": {
  "kernelspec": {
   "display_name": "Python 3",
   "language": "python",
   "name": "python3"
  },
  "language_info": {
   "codemirror_mode": {
    "name": "ipython",
    "version": 3
   },
   "file_extension": ".py",
   "mimetype": "text/x-python",
   "name": "python",
   "nbconvert_exporter": "python",
   "pygments_lexer": "ipython3",
   "version": "3.6.4"
  }
 },
 "nbformat": 4,
 "nbformat_minor": 2
}
